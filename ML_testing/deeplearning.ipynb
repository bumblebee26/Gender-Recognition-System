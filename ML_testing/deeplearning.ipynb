{
 "cells": [
  {
   "cell_type": "code",
   "execution_count": 24,
   "metadata": {},
   "outputs": [],
   "source": [
    "#This code was execture on google cloud as it was too bulky for my laptop\n",
    "\n",
    "import numpy as np \n",
    "import pandas as pd \n",
    "import librosa \n",
    "import os \n",
    "import soundfile as sf\n",
    "import keras \n",
    "from keras.models import Sequential\n",
    "from keras.layers import Dense, Dropout, LSTM"
   ]
  },
  {
   "cell_type": "code",
   "execution_count": 25,
   "metadata": {},
   "outputs": [],
   "source": [
    "def initialise_training_set():\n",
    "    path_female = r'C:\\Users\\Atulya\\Documents\\GitHub\\gender-classifier-using-voice\\Data Preprocessing\\Female'\n",
    "    path_male = r'C:\\Users\\Atulya\\Documents\\GitHub\\gender-classifier-using-voice\\Data Preprocessing\\Male'\n",
    "    m=[]\n",
    "    f=[] \n",
    "    for audiofile in os.listdir(path_male):\n",
    "        try:\n",
    "            y, sr = sf.read(os.path.join(path_male,audiofile))\n",
    "            y = librosa.resample(y, sr, 8000)\n",
    "            y = y[0:40000]\n",
    "            y = np.concatenate((y, [0]* (40000 - y.shape[0])), axis=0)\n",
    "            m.append(y)\n",
    "        except RuntimeError:\n",
    "            print(\".DS_Store file detected and dismissed\")\n",
    "            pass\n",
    "    for audiofile in os.listdir(path_female):     \n",
    "        try:\n",
    "            y, sr = sf.read(os.path.join(path_female,audiofile))\n",
    "            y = librosa.resample(y, sr, 8000)\n",
    "            y = y[0:40000]\n",
    "            y = np.concatenate((y, [0]* (40000 - y.shape[0])), axis=0)\n",
    "            f.append(y)\n",
    "        except RuntimeError:\n",
    "            print(\".DS_Store file detected and dismissed\")   \n",
    "            pass\n",
    "    labels_m = [1] * 3858\n",
    "    labels_f = [0] * 3858\n",
    "    set_m = list(zip(m,labels_m))\n",
    "    set_f = list(zip(f,labels_f))\n",
    "    data = set_m + set_f \n",
    "    df = pd.DataFrame(data, columns = ['Audio Data', 'Label'])\n",
    "    return df"
   ]
  },
  {
   "cell_type": "code",
   "execution_count": 26,
   "metadata": {},
   "outputs": [],
   "source": [
    "def initialise_test_set():\n",
    "    m=[]\n",
    "    f=[]\n",
    "    path_female = r'C:\\Users\\Atulya\\Documents\\GitHub\\gender-classifier-using-voice\\Data Preprocessing\\F6'\n",
    "    path_male = r'C:\\Users\\Atulya\\Documents\\GitHub\\gender-classifier-using-voice\\Data Preprocessing\\Male\\M6'\n",
    "    for audiofile in os.listdir(path_male):\n",
    "        try:\n",
    "            y, sr = sf.read(os.path.join(path_male,audiofile))\n",
    "            y = librosa.resample(y, sr, 8000)\n",
    "            y = y[0:40000]\n",
    "            y = np.concatenate((y, [0]* (40000 - y.shape[0])), axis=0)\n",
    "            m.append(y)\n",
    "        except RuntimeError:\n",
    "            print(\".DS_Store file detected and dismissed\")\n",
    "            pass\n",
    "    for audiofile in os.listdir(path_female):     \n",
    "        try:\n",
    "            y, sr = sf.read(os.path.join(path_female,audiofile))\n",
    "            y = librosa.resample(y, sr, 8000)\n",
    "            y = y[0:40000]\n",
    "            y = np.concatenate((y, [0]* (40000 - y.shape[0])), axis=0)\n",
    "            f.append(y)\n",
    "        except RuntimeError:\n",
    "            print(\".DS_Store file detected and dismissed\")   \n",
    "            pass\n",
    "    labels_m = [1] * 3858\n",
    "    labels_f = [0] * 3858\n",
    "    set_m = list(zip(m,labels_m))\n",
    "    set_f = list(zip(f,labels_f))\n",
    "    data = set_m + set_f \n",
    "    df = pd.DataFrame(data, columns = ['Audio Data', 'Label'])\n",
    "    return df"
   ]
  },
  {
   "cell_type": "code",
   "execution_count": 27,
   "metadata": {},
   "outputs": [],
   "source": [
    "def shuffle_training_set(train):\n",
    "    train = train.reindex(np.random.permutation(train.index))\n",
    "    return train"
   ]
  },
  {
   "cell_type": "code",
   "execution_count": 28,
   "metadata": {},
   "outputs": [],
   "source": [
    "def shuffle_test_set(test):\n",
    "    test = test.reindex(np.random.permutation(test.index))\n",
    "    return test"
   ]
  },
  {
   "cell_type": "code",
   "execution_count": 29,
   "metadata": {},
   "outputs": [],
   "source": [
    "def from_dataframe_to_array(train_shuff,test_shuff):\n",
    "    train = train_shuff.values \n",
    "    test = test_shuff.values \n",
    "    x_train = np.zeros(shape=(train.shape[0],40000))\n",
    "    x_test = np.zeros(shape=(test.shape[0],40000))\n",
    "    for i in range(0,train.shape[0]):\n",
    "        for j in range(0,40000):\n",
    "            x_train[i][j] = train[i][0][j]\n",
    "    x_test = np.zeros(shape=(test.shape[0],40000))\n",
    "    for i in range(0,test.shape[0]):\n",
    "        for j in range(0,40000):\n",
    "            x_test[i][j] = test[i][0][j]        \n",
    "    y_train = train_shuff[\"Label\"][:]\n",
    "    y_test = test_shuff[\"Label\"][:]\n",
    "    return x_train, x_test, y_train, y_test "
   ]
  },
  {
   "cell_type": "code",
   "execution_count": 30,
   "metadata": {},
   "outputs": [],
   "source": [
    "def model(x_train,x_test,y_train,y_test):\n",
    "    x_train = x_train.reshape(x_train.shape[0],x_train.shape[1],1)\n",
    "    x_test = x_test.reshape(x_test.shape[0],x_test.shape[1],1)\n",
    "    model = Sequential() \n",
    "    model.add(LSTM(512, input_shape=(x_train.shape[1:]), kernel_initializer='normal', activation = 'relu'))\n",
    "    model.add(Dense(128, kernel_initializer='normal', activation = 'relu'))\n",
    "    model.add(Dropout(0.30))\n",
    "    model.add(Dense(16, kernel_initializer='normal', activation = 'relu'))\n",
    "    model.add(Dense(1, kernel_initializer='normal', activation = 'sigmoid'))\n",
    "    model.compile(optimizer='adam',loss='binary_crossentropy', metrics=['accuracy','binary_accuracy',])\n",
    "    model.fit(x_train, y_train, epochs=20, batch_size=2048)\n",
    "    score = model.evaluate(x_test, y_test, batch_size=100)"
   ]
  },
  {
   "cell_type": "code",
   "execution_count": 31,
   "metadata": {},
   "outputs": [],
   "source": [
    "def main():\n",
    "    train = initialise_training_set()\n",
    "    test = initialise_test_set()\n",
    "    train_shuff = shuffle_training_set(train)\n",
    "    test_shuff = shuffle_test_set(test)\n",
    "    x_train, x_test, y_train, y_test = from_dataframe_to_array(train_shuff,test_shuff)\n",
    "    model(x_train,x_test,y_train,y_test)"
   ]
  },
  {
   "cell_type": "code",
   "execution_count": null,
   "metadata": {},
   "outputs": [
    {
     "name": "stdout",
     "output_type": "stream",
     "text": [
      "Epoch 1/20\n"
     ]
    }
   ],
   "source": [
    "main()"
   ]
  }
 ],
 "metadata": {
  "kernelspec": {
   "display_name": "Python 3",
   "language": "python",
   "name": "python3"
  },
  "language_info": {
   "codemirror_mode": {
    "name": "ipython",
    "version": 3
   },
   "file_extension": ".py",
   "mimetype": "text/x-python",
   "name": "python",
   "nbconvert_exporter": "python",
   "pygments_lexer": "ipython3",
   "version": "3.6.8"
  }
 },
 "nbformat": 4,
 "nbformat_minor": 2
}
